{
 "cells": [
  {
   "cell_type": "markdown",
   "id": "d4ee9e4b",
   "metadata": {},
   "source": [
    "***\n",
    "< [Home](https://github.com/SeanOhAileasa) | [README](https://github.com/SeanOhAileasa/cap-network-scanning-and-traffic-analysis/blob/main/README.md) >\n",
    "\n",
    "## CompTIA Cybersecurity Analyst (CySA+) - Course Material 2022\n",
    "###### Topic: ``Network Scanning and Traffic Analysis``\n",
    "***"
   ]
  },
  {
   "cell_type": "markdown",
   "id": "b82b07fb",
   "metadata": {},
   "source": [
    "Course material for the ``CompTIA Cybersecurity Analyst (CySA+)`` module of the ``ICT Associate Apprenticeship (Cybersecurity)`` programme."
   ]
  },
  {
   "cell_type": "markdown",
   "id": "e7228f57",
   "metadata": {},
   "source": [
    "<a id=\"top\"></a>\n",
    "***\n",
    "## Table of Contents\n",
    "***"
   ]
  },
  {
   "cell_type": "markdown",
   "id": "c2bb5e7b",
   "metadata": {},
   "source": [
    "### [Network Scanning and Traffic Analysis](#NetworkScanningandTrafficAnalysis) <br/><br/>\n",
    "<hr width=50%;>"
   ]
  },
  {
   "cell_type": "markdown",
   "id": "a04cc970",
   "metadata": {},
   "source": [
    "### [Vulnerability Scanning](#VulnerabilityScanning) <br/><br/>\n",
    "<hr width=50%;>"
   ]
  },
  {
   "cell_type": "markdown",
   "id": "74196d7a",
   "metadata": {},
   "source": [
    "### [Penetration Testing](#PenetrationTesting) <br/><br/>\n",
    "<hr width=50%;>"
   ]
  },
  {
   "cell_type": "markdown",
   "id": "e537fa3c",
   "metadata": {},
   "source": [
    "### [Metasploit Overview](#MetasploitOverview) <br/><br/>\n",
    "<hr width=50%;>"
   ]
  },
  {
   "cell_type": "markdown",
   "id": "e2e750b9",
   "metadata": {},
   "source": [
    "### [Explore Metasploit](#ExploreMetasploit) <br/><br/>\n",
    "<hr width=50%;>"
   ]
  },
  {
   "cell_type": "markdown",
   "id": "d49178b4",
   "metadata": {},
   "source": [
    "### [Metasploitable](#Metasploitable) <br/><br/>\n",
    "<hr width=50%;>"
   ]
  },
  {
   "cell_type": "markdown",
   "id": "713a9695",
   "metadata": {},
   "source": [
    "### [Metasploit Scanning and Exploits](#MetasploitScanningandExploits) <br/><br/>\n",
    "<hr width=50%;>"
   ]
  },
  {
   "cell_type": "markdown",
   "id": "b6aa3b98",
   "metadata": {},
   "source": [
    "### [Nmap Network Scan](#NmapNetworkScan) <br/><br/>\n",
    "<hr width=50%;>"
   ]
  },
  {
   "cell_type": "markdown",
   "id": "4f8d9f48",
   "metadata": {},
   "source": [
    "### [Network Scan Comparisons](#NetworkScanComparisons) <br/><br/>\n",
    "<hr width=50%;>"
   ]
  },
  {
   "cell_type": "markdown",
   "id": "e85a906f",
   "metadata": {},
   "source": [
    "### [Nessus Vulnerability Scan](#NessusVulnerabilityScan) <br/><br/>\n",
    "<hr width=50%;>"
   ]
  },
  {
   "cell_type": "markdown",
   "id": "7e2558c4",
   "metadata": {},
   "source": [
    "### [Greenbone Security Manager Vulnerability Scan](#GreenboneSecurityManagerVulnerabilityScan) <br/><br/>\n",
    "<hr width=50%;>"
   ]
  },
  {
   "cell_type": "markdown",
   "id": "c5a2aae9",
   "metadata": {},
   "source": [
    "### [Hping Packet Generation](#HpingPacketGeneration) <br/><br/>\n",
    "<hr width=50%;>"
   ]
  },
  {
   "cell_type": "markdown",
   "id": "ff2aaa33",
   "metadata": {},
   "source": [
    "### [Course Summary](#CourseSummary) <br/><br/>\n",
    "<hr width=50%;>"
   ]
  },
  {
   "cell_type": "markdown",
   "id": "bf2b95e2",
   "metadata": {},
   "source": [
    "***\n",
    "## END"
   ]
  },
  {
   "cell_type": "markdown",
   "id": "34aa6eb5",
   "metadata": {},
   "source": [
    "< [Table of Contents](#top) | [References](#references) >\n",
    "<a id=\"NetworkScanningandTrafficAnalysis\"></a>\n",
    "***\n",
    "### Network Scanning and Traffic Analysis\n",
    "***"
   ]
  },
  {
   "cell_type": "markdown",
   "id": "10572cec",
   "metadata": {},
   "source": [
    "Discover how vulnerability scanning can detect weaknesses while pen testing exploits weaknesses. Explore these activities along with how intrusion detection and prevention help secure networks, hosts, apps and data for organizations. This course can be used in preparation for the CompTIA Cybersecurity Analyst (CySA+) Certification Exam CS0-002."
   ]
  },
  {
   "cell_type": "markdown",
   "id": "173e78b5",
   "metadata": {},
   "source": [
    "Objectives\n",
    "\n",
    "- discover the key concepts covered in this course <br/><br/>\n",
    "- recognize how vulnerability scanning identifies security weaknesses <br/><br/>\n",
    "- recognize how pen testing identifies and exploits security weaknesses <br/><br/>\n",
    "- recognize how Metasploit fits into penetration testing <br/><br/>\n",
    "- explore the metasploit framework <br/><br/>\n",
    "- download and install an exploitable VM <br/><br/>\n",
    "- use a variety of metasploit scanning and exploit techniques <br/><br/>\n",
    "- run an Nmap network scan <br/><br/>\n",
    "- compare baseline and current scans to identify changes <br/><br/>\n",
    "- run a Nessus vulnerability scan <br/><br/>\n",
    "- view vulnerability scan results <br/><br/>\n",
    "- use the hping tool to generate network SYN flood traffic <br/><br/>\n",
    "- summarize the key concepts covered in this course <br/><br/>"
   ]
  },
  {
   "cell_type": "markdown",
   "id": "84b00380",
   "metadata": {},
   "source": [
    "< [Table of Contents](#top) | [References](#references) >\n",
    "<a id=\"VulnerabilityScanning\"></a>\n",
    "***\n",
    "### Vulnerability Scanning\n",
    "***"
   ]
  },
  {
   "cell_type": "markdown",
   "id": "d82d85d7",
   "metadata": {},
   "source": []
  },
  {
   "cell_type": "markdown",
   "id": "b4da2efe",
   "metadata": {},
   "source": [
    "< [Table of Contents](#top) | [References](#references) >\n",
    "<a id=\"PenetrationTesting\"></a>\n",
    "***\n",
    "### Penetration Testing\n",
    "***"
   ]
  },
  {
   "cell_type": "markdown",
   "id": "70f6e846",
   "metadata": {},
   "source": []
  },
  {
   "cell_type": "markdown",
   "id": "7b10c3a2",
   "metadata": {},
   "source": [
    "< [Table of Contents](#top) | [References](#references) >\n",
    "<a id=\"MetasploitOverview\"></a>\n",
    "***\n",
    "### Metasploit Overview\n",
    "***"
   ]
  },
  {
   "cell_type": "markdown",
   "id": "2cc18496",
   "metadata": {},
   "source": []
  },
  {
   "cell_type": "markdown",
   "id": "1ce9ff85",
   "metadata": {},
   "source": [
    "< [Table of Contents](#top) | [References](#references) >\n",
    "<a id=\"ExploreMetasploit\"></a>\n",
    "***\n",
    "### Explore Metasploit\n",
    "***"
   ]
  },
  {
   "cell_type": "markdown",
   "id": "8bb9c616",
   "metadata": {},
   "source": []
  },
  {
   "cell_type": "markdown",
   "id": "d87809fd",
   "metadata": {},
   "source": [
    "< [Table of Contents](#top) | [References](#references) >\n",
    "<a id=\"Metasploitable\"></a>\n",
    "***\n",
    "### Metasploitable\n",
    "***"
   ]
  },
  {
   "cell_type": "markdown",
   "id": "f0a909b6",
   "metadata": {},
   "source": []
  },
  {
   "cell_type": "markdown",
   "id": "c781a700",
   "metadata": {},
   "source": [
    "< [Table of Contents](#top) | [References](#references) >\n",
    "<a id=\"MetasploitScanningandExploits\"></a>\n",
    "***\n",
    "### Metasploit Scanning and Exploits\n",
    "***"
   ]
  },
  {
   "cell_type": "markdown",
   "id": "cd41c08d",
   "metadata": {},
   "source": []
  },
  {
   "cell_type": "markdown",
   "id": "1256d7bf",
   "metadata": {},
   "source": [
    "< [Table of Contents](#top) | [References](#references) >\n",
    "<a id=\"NmapNetworkScan\"></a>\n",
    "***\n",
    "### Nmap Network Scan\n",
    "***"
   ]
  },
  {
   "cell_type": "markdown",
   "id": "3ab13be8",
   "metadata": {},
   "source": []
  },
  {
   "cell_type": "markdown",
   "id": "47707114",
   "metadata": {},
   "source": [
    "< [Table of Contents](#top) | [References](#references) >\n",
    "<a id=\"NetworkScanComparisons\"></a>\n",
    "***\n",
    "### Network Scan Comparisons\n",
    "***"
   ]
  },
  {
   "cell_type": "markdown",
   "id": "5c5eb4ce",
   "metadata": {},
   "source": []
  },
  {
   "cell_type": "markdown",
   "id": "9adeceaf",
   "metadata": {},
   "source": [
    "< [Table of Contents](#top) | [References](#references) >\n",
    "<a id=\"NessusVulnerabilityScan\"></a>\n",
    "***\n",
    "### Nessus Vulnerability Scan\n",
    "***"
   ]
  },
  {
   "cell_type": "markdown",
   "id": "45d2f914",
   "metadata": {},
   "source": []
  },
  {
   "cell_type": "markdown",
   "id": "fd680b58",
   "metadata": {},
   "source": [
    "< [Table of Contents](#top) | [References](#references) >\n",
    "<a id=\"GreenboneSecurityManagerVulnerabilityScan\"></a>\n",
    "***\n",
    "### Greenbone Security Manager Vulnerability Scan\n",
    "***"
   ]
  },
  {
   "cell_type": "markdown",
   "id": "86a67316",
   "metadata": {},
   "source": []
  },
  {
   "cell_type": "markdown",
   "id": "d438e44b",
   "metadata": {},
   "source": [
    "< [Table of Contents](#top) | [References](#references) >\n",
    "<a id=\"HpingPacketGeneration\"></a>\n",
    "***\n",
    "### Hping Packet Generation\n",
    "***"
   ]
  },
  {
   "cell_type": "markdown",
   "id": "6779b825",
   "metadata": {},
   "source": []
  },
  {
   "cell_type": "markdown",
   "id": "bd89bb21",
   "metadata": {},
   "source": [
    "< [Table of Contents](#top) | [References](#references) >\n",
    "<a id=\"CourseSummary\"></a>\n",
    "***\n",
    "### Course Summary\n",
    "***"
   ]
  },
  {
   "cell_type": "markdown",
   "id": "c9f42d31",
   "metadata": {},
   "source": []
  },
  {
   "cell_type": "markdown",
   "id": "2cc20932",
   "metadata": {},
   "source": [
    "***\n",
    "## END"
   ]
  },
  {
   "cell_type": "markdown",
   "id": "e0e42d51",
   "metadata": {},
   "source": [
    "< [Table of Contents](#top) >\n",
    "<a id=\"references\"></a>\n",
    "***\n",
    "## References\n",
    "***"
   ]
  },
  {
   "cell_type": "markdown",
   "id": "757bf6de",
   "metadata": {},
   "source": [
    "&nbsp;&nbsp;&nbsp;&nbsp;&nbsp;&nbsp;&nbsp;&nbsp;&nbsp;skillsoft, \"Network Scanning and Traffic Analysis,\" [skillsoft.com](https://web.archive.org/web/20220403100053/https://www.skillsoft.com/), n.d.."
   ]
  },
  {
   "cell_type": "markdown",
   "id": "b33c372a",
   "metadata": {},
   "source": [
    "***\n",
    "## END"
   ]
  },
  {
   "cell_type": "markdown",
   "id": "e5961b4d",
   "metadata": {},
   "source": [
    "< [Table of Contents](#top) | [References](#references) >\n",
    "<a id=\"appendix\"></a>\n",
    "***\n",
    "## Appendix\n",
    "***"
   ]
  },
  {
   "cell_type": "markdown",
   "id": "00d82a82",
   "metadata": {},
   "source": [
    "***\n",
    "## END"
   ]
  },
  {
   "cell_type": "code",
   "execution_count": 1,
   "id": "706756a2",
   "metadata": {},
   "outputs": [
    {
     "data": {
      "text/html": [
       "<style>.container { width:100% !important; }</style>"
      ],
      "text/plain": [
       "<IPython.core.display.HTML object>"
      ]
     },
     "metadata": {},
     "output_type": "display_data"
    }
   ],
   "source": [
    "from IPython.core.display import display,HTML\n",
    "display(HTML(\"<style>.container { width:100% !important; }</style>\"))"
   ]
  },
  {
   "cell_type": "markdown",
   "id": "899c1783",
   "metadata": {},
   "source": [
    "# END JUPYTER NOTEBOOK"
   ]
  }
 ],
 "metadata": {
  "kernelspec": {
   "display_name": "Python 3",
   "language": "python",
   "name": "python3"
  },
  "language_info": {
   "codemirror_mode": {
    "name": "ipython",
    "version": 3
   },
   "file_extension": ".py",
   "mimetype": "text/x-python",
   "name": "python",
   "nbconvert_exporter": "python",
   "pygments_lexer": "ipython3",
   "version": "3.8.8"
  }
 },
 "nbformat": 4,
 "nbformat_minor": 5
}
